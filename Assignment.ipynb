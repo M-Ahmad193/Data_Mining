{
 "cells": [
  {
   "cell_type": "code",
   "execution_count": 4,
   "metadata": {},
   "outputs": [
    {
     "data": {
      "text/plain": [
       "['Lahore', 'Peshawar']"
      ]
     },
     "execution_count": 4,
     "metadata": {},
     "output_type": "execute_result"
    }
   ],
   "source": [
    "import os\n",
    "# List the contents of the \"A-1 Data\" directory\n",
    "a1_data_dir = os.path.join(\"F:\\MS\\GIKI\\smester 1\\DATA MINING\\Assignment\\Assignment\\A-1 data\")\n",
    "a1_data_files = os.listdir(a1_data_dir)\n",
    "a1_data_files"
   ]
  },
  {
   "cell_type": "code",
   "execution_count": 5,
   "metadata": {},
   "outputs": [
    {
     "data": {
      "text/plain": [
       "['Lhr_Detail_100.txt',\n",
       " 'Lhr_Detail_101.txt',\n",
       " 'Lhr_Detail_102.txt',\n",
       " 'Lhr_Detail_103.txt',\n",
       " 'Lhr_Detail_104.txt',\n",
       " 'Lhr_Detail_94.txt',\n",
       " 'Lhr_Detail_95.txt',\n",
       " 'Lhr_Detail_96.txt',\n",
       " 'Lhr_Detail_97.txt',\n",
       " 'Lhr_Detail_98.txt',\n",
       " 'Lhr_Detail_99.txt',\n",
       " 'Lhr_Detail_MS_101.txt',\n",
       " 'Lhr_Detail_MS_102.txt',\n",
       " 'Lhr_Detail_MS_103.txt',\n",
       " 'Lhr_Detail_MS_104.txt',\n",
       " 'Lhr_Student_100.txt',\n",
       " 'Lhr_Student_101.txt',\n",
       " 'Lhr_Student_102.txt',\n",
       " 'Lhr_Student_103.txt',\n",
       " 'Lhr_Student_104.txt',\n",
       " 'Lhr_Student_94.txt',\n",
       " 'Lhr_Student_95.txt',\n",
       " 'Lhr_Student_96.txt',\n",
       " 'Lhr_Student_97.txt',\n",
       " 'Lhr_Student_98.txt',\n",
       " 'Lhr_Student_99.txt',\n",
       " 'Lhr_Student_MS_101.txt',\n",
       " 'Lhr_Student_MS_102.txt',\n",
       " 'Lhr_Student_MS_103.txt',\n",
       " 'Lhr_Student_MS_104.txt',\n",
       " 'Transfer.txt']"
      ]
     },
     "execution_count": 5,
     "metadata": {},
     "output_type": "execute_result"
    }
   ],
   "source": [
    "#lahore folder path\n",
    "lahore_folder_path = os.path.join(a1_data_dir, \"Lahore\")\n",
    "lahore_files = os.listdir(lahore_folder_path)\n",
    "lahore_files"
   ]
  },
  {
   "cell_type": "code",
   "execution_count": 6,
   "metadata": {},
   "outputs": [
    {
     "data": {
      "text/plain": [
       "['BS_P_100_Reg.txt',\n",
       " 'BS_P_100_Student.txt',\n",
       " 'BS_P_101_Reg.txt',\n",
       " 'BS_P_101_Student.txt',\n",
       " 'BS_P_102_Reg.txt',\n",
       " 'BS_P_102_Student.txt',\n",
       " 'BS_P_103_Reg.txt',\n",
       " 'BS_P_103_Student.txt',\n",
       " 'BS_P_104_Reg.txt',\n",
       " 'BS_P_104_Student.txt',\n",
       " 'BS_P_94_Reg.txt',\n",
       " 'BS_P_94_Student.txt',\n",
       " 'BS_P_95_Reg.txt',\n",
       " 'BS_P_95_Student.txt',\n",
       " 'BS_P_96_Reg.txt',\n",
       " 'BS_P_96_Student.txt',\n",
       " 'BS_P_97_Reg.txt',\n",
       " 'BS_P_97_Student.txt',\n",
       " 'BS_P_98_Reg.txt',\n",
       " 'BS_P_98_Student.txt',\n",
       " 'BS_P_99_Reg.txt',\n",
       " 'BS_P_99_Student.txt',\n",
       " 'MS_P_101_Reg.txt',\n",
       " 'MS_P_101_Student.txt',\n",
       " 'MS_P_102_Reg.txt',\n",
       " 'MS_P_102_Student.txt',\n",
       " 'MS_P_103_Reg.txt',\n",
       " 'MS_P_103_Student.txt',\n",
       " 'MS_P_104_Reg.txt',\n",
       " 'MS_P_104_Student.txt']"
      ]
     },
     "execution_count": 6,
     "metadata": {},
     "output_type": "execute_result"
    }
   ],
   "source": [
    "#peshawar folder path\n",
    "peshawar_folder_path = os.path.join(a1_data_dir, \"Peshawar\")\n",
    "peshawar_files = os.listdir(peshawar_folder_path)\n",
    "peshawar_files"
   ]
  },
  {
   "cell_type": "code",
   "execution_count": 12,
   "metadata": {},
   "outputs": [
    {
     "data": {
      "text/plain": [
       "(   Reg#                                Name                       Father  \\\n",
       " 0  1800                        Emmad Farzan                Farzan Farooq   \n",
       " 1  1801                       Adila Shabeer               Shabeer Mujeeb   \n",
       " 2  1802                Bakht Junaid Ismaili            Mustansar Ismaili   \n",
       " 3  1803  Sana Ullah Viqar-ul-Islam Hussaini  AAmer Abdur Rahman Hussaini   \n",
       " 4  1804                          Nadia Haqq         Mouhammed Munir Haqq   \n",
       " \n",
       "                                       Address Date of Birth  lastDeg Reg Date  \\\n",
       " 0        House No. 401 s#  73 Kumria Mansehra      19-12-82    F.Sc.   1-8-00   \n",
       " 1     Ho. # 947 St. no.69  Illyas abad Gilgit       22-8-82      Fsc   4-8-00   \n",
       " 2  Ho. no.262 St. no.64  Air port coloney Psh       24-8-81  A level   8-8-00   \n",
       " 3            h no.576 S No.59  Biyaal Haripur       24-5-81     HSSC  11-8-00   \n",
       " 4    Ho. No.123 Street No.23  Bara market Psh       26-1-81  A level  14-8-00   \n",
       " \n",
       "   Reg Status Deg Status  \n",
       " 0          A          C  \n",
       " 1          A          C  \n",
       " 2          A          C  \n",
       " 3          A          C  \n",
       " 4          A          C  ,\n",
       "    Reg# Courses  Score Program   Sem  Year\n",
       " 0  1800  CS-101     73      CS  Fall  2000\n",
       " 1  1800  CS-102     99      CS  Fall  2000\n",
       " 2  1800  CS-103     70      CS  Fall  2000\n",
       " 3  1800  CS-104     87      CS  Fall  2000\n",
       " 4  1800  SS-201     56      CS  Fall  2000)"
      ]
     },
     "execution_count": 12,
     "metadata": {},
     "output_type": "execute_result"
    }
   ],
   "source": [
    "import pandas as pd\n",
    "import os\n",
    "\n",
    "# Adjust the loading function to match Peshawar's naming convention\n",
    "def load_all_files(directory, campus):\n",
    "    if campus == \"Lahore\":\n",
    "        student_suffix = \"Student\"\n",
    "        detail_suffix = \"Detail\"\n",
    "    else:  # Peshawar\n",
    "        student_suffix = \"Student\"\n",
    "        detail_suffix = \"Reg\"\n",
    "    \n",
    "    student_files = [f for f in os.listdir(directory) if student_suffix in f]\n",
    "    detail_files = [f for f in os.listdir(directory) if detail_suffix in f]\n",
    "    \n",
    "    student_data = pd.concat([pd.read_csv(os.path.join(directory, file), sep=\",\") for file in student_files])\n",
    "    detail_data = pd.concat([pd.read_csv(os.path.join(directory, file), sep=\",\") for file in detail_files])\n",
    "    \n",
    "    return student_data, detail_data\n",
    "\n",
    "# Define the path to the Peshawar directory\n",
    "#peshawar_path = os.path.join(\"F:\\MS\\GIKI\\smester 1\\DATA MINING\\Assignment\\Assignment\\A-1 data\\Peshawar\")\n",
    "\n",
    "\n",
    "peshawar_students.head(), peshawar_details.head()\n",
    "peshawar_students, peshawar_details = load_all_files(peshawar_path, \"Peshawar\")\n",
    "\n",
    "# Display first few rows of each dataset for Peshawar\n",
    "peshawar_students.head(), peshawar_details.head()\n"
   ]
  },
  {
   "cell_type": "code",
   "execution_count": 9,
   "metadata": {},
   "outputs": [
    {
     "data": {
      "text/plain": [
       "['Lhr_Detail_100.txt',\n",
       " 'Lhr_Detail_101.txt',\n",
       " 'Lhr_Detail_102.txt',\n",
       " 'Lhr_Detail_103.txt',\n",
       " 'Lhr_Detail_104.txt',\n",
       " 'Lhr_Detail_94.txt',\n",
       " 'Lhr_Detail_95.txt',\n",
       " 'Lhr_Detail_96.txt',\n",
       " 'Lhr_Detail_97.txt',\n",
       " 'Lhr_Detail_98.txt',\n",
       " 'Lhr_Detail_99.txt',\n",
       " 'Lhr_Detail_MS_101.txt',\n",
       " 'Lhr_Detail_MS_102.txt',\n",
       " 'Lhr_Detail_MS_103.txt',\n",
       " 'Lhr_Detail_MS_104.txt',\n",
       " 'Lhr_Student_100.txt',\n",
       " 'Lhr_Student_101.txt',\n",
       " 'Lhr_Student_102.txt',\n",
       " 'Lhr_Student_103.txt',\n",
       " 'Lhr_Student_104.txt',\n",
       " 'Lhr_Student_94.txt',\n",
       " 'Lhr_Student_95.txt',\n",
       " 'Lhr_Student_96.txt',\n",
       " 'Lhr_Student_97.txt',\n",
       " 'Lhr_Student_98.txt',\n",
       " 'Lhr_Student_99.txt',\n",
       " 'Lhr_Student_MS_101.txt',\n",
       " 'Lhr_Student_MS_102.txt',\n",
       " 'Lhr_Student_MS_103.txt',\n",
       " 'Lhr_Student_MS_104.txt',\n",
       " 'Transfer.txt']"
      ]
     },
     "execution_count": 9,
     "metadata": {},
     "output_type": "execute_result"
    }
   ],
   "source": [
    "# Listing the contents of the \"Lahore\" directory to identify the student data files\n",
    "lahore_files_list = os.listdir(lahore_folder_path)\n",
    "lahore_files_list\n"
   ]
  },
  {
   "cell_type": "code",
   "execution_count": 10,
   "metadata": {},
   "outputs": [
    {
     "data": {
      "text/html": [
       "<div>\n",
       "<style scoped>\n",
       "    .dataframe tbody tr th:only-of-type {\n",
       "        vertical-align: middle;\n",
       "    }\n",
       "\n",
       "    .dataframe tbody tr th {\n",
       "        vertical-align: top;\n",
       "    }\n",
       "\n",
       "    .dataframe thead th {\n",
       "        text-align: right;\n",
       "    }\n",
       "</style>\n",
       "<table border=\"1\" class=\"dataframe\">\n",
       "  <thead>\n",
       "    <tr style=\"text-align: right;\">\n",
       "      <th></th>\n",
       "      <th>SID</th>\n",
       "      <th>St_Name</th>\n",
       "      <th>Father_Name</th>\n",
       "      <th>Gender</th>\n",
       "      <th>Address</th>\n",
       "      <th>Date of Birth</th>\n",
       "      <th>Reg Date</th>\n",
       "      <th>Reg Status</th>\n",
       "      <th>Degree Status</th>\n",
       "      <th>Last Degree</th>\n",
       "    </tr>\n",
       "  </thead>\n",
       "  <tbody>\n",
       "    <tr>\n",
       "      <th>0</th>\n",
       "      <td>2400</td>\n",
       "      <td>Gul Abdul Suleh Awan</td>\n",
       "      <td>Chodhary Mustafa Awan</td>\n",
       "      <td>0.0</td>\n",
       "      <td>H No.993 s no.74  kurang nala Multan</td>\n",
       "      <td>24-Nov-81</td>\n",
       "      <td>18-Aug-00</td>\n",
       "      <td>A</td>\n",
       "      <td>C</td>\n",
       "      <td>HSSC</td>\n",
       "    </tr>\n",
       "    <tr>\n",
       "      <th>1</th>\n",
       "      <td>2401</td>\n",
       "      <td>Fakhar Mujtaba</td>\n",
       "      <td>Mujtaba Qutab</td>\n",
       "      <td>0.0</td>\n",
       "      <td>Ho. no. 540 St. no. 69 Chan chirag LalaMusa</td>\n",
       "      <td>25-Aug-81</td>\n",
       "      <td>21-Aug-00</td>\n",
       "      <td>A</td>\n",
       "      <td>C</td>\n",
       "      <td>A level</td>\n",
       "    </tr>\n",
       "    <tr>\n",
       "      <th>2</th>\n",
       "      <td>2402</td>\n",
       "      <td>Zeenat Ayyaz</td>\n",
       "      <td>Ayyaz Abdul Suleh</td>\n",
       "      <td>1.0</td>\n",
       "      <td>h no. 855 St. no. 32 Kotlia Sialkot</td>\n",
       "      <td>27-Aug-81</td>\n",
       "      <td>24-Aug-00</td>\n",
       "      <td>A</td>\n",
       "      <td>C</td>\n",
       "      <td>HSSC</td>\n",
       "    </tr>\n",
       "    <tr>\n",
       "      <th>3</th>\n",
       "      <td>2403</td>\n",
       "      <td>Wajid Abdul Hameed Namani</td>\n",
       "      <td>Shaheen Namani</td>\n",
       "      <td>0.0</td>\n",
       "      <td>Ho. No. 169 S No. 28 Saidpur road Bhawalpur</td>\n",
       "      <td>27-May-81</td>\n",
       "      <td>27-Aug-00</td>\n",
       "      <td>A</td>\n",
       "      <td>C</td>\n",
       "      <td>A level</td>\n",
       "    </tr>\n",
       "    <tr>\n",
       "      <th>4</th>\n",
       "      <td>2404</td>\n",
       "      <td>Annan Kiyyani</td>\n",
       "      <td>Soneel Mehmood Kiyyani</td>\n",
       "      <td>0.0</td>\n",
       "      <td>H#  484 Street No. 23 Jaamia Masjid road Kharian</td>\n",
       "      <td>29-Jan-80</td>\n",
       "      <td>2-Aug-00</td>\n",
       "      <td>A</td>\n",
       "      <td>C</td>\n",
       "      <td>A-Level</td>\n",
       "    </tr>\n",
       "  </tbody>\n",
       "</table>\n",
       "</div>"
      ],
      "text/plain": [
       "    SID                    St_Name             Father_Name  Gender  \\\n",
       "0  2400       Gul Abdul Suleh Awan   Chodhary Mustafa Awan     0.0   \n",
       "1  2401             Fakhar Mujtaba           Mujtaba Qutab     0.0   \n",
       "2  2402               Zeenat Ayyaz       Ayyaz Abdul Suleh     1.0   \n",
       "3  2403  Wajid Abdul Hameed Namani          Shaheen Namani     0.0   \n",
       "4  2404              Annan Kiyyani  Soneel Mehmood Kiyyani     0.0   \n",
       "\n",
       "                                            Address Date of Birth   Reg Date  \\\n",
       "0              H No.993 s no.74  kurang nala Multan     24-Nov-81  18-Aug-00   \n",
       "1       Ho. no. 540 St. no. 69 Chan chirag LalaMusa     25-Aug-81  21-Aug-00   \n",
       "2               h no. 855 St. no. 32 Kotlia Sialkot     27-Aug-81  24-Aug-00   \n",
       "3       Ho. No. 169 S No. 28 Saidpur road Bhawalpur     27-May-81  27-Aug-00   \n",
       "4  H#  484 Street No. 23 Jaamia Masjid road Kharian     29-Jan-80   2-Aug-00   \n",
       "\n",
       "  Reg Status Degree Status Last Degree  \n",
       "0          A             C        HSSC  \n",
       "1          A             C     A level  \n",
       "2          A             C        HSSC  \n",
       "3          A             C     A level  \n",
       "4          A             C     A-Level  "
      ]
     },
     "execution_count": 10,
     "metadata": {},
     "output_type": "execute_result"
    }
   ],
   "source": [
    "# Function to load all Lahore student and detail files\n",
    "def load_lahore_files(directory):\n",
    "    student_files = [f for f in os.listdir(directory) if \"Lhr_Student\" in f]\n",
    "    detail_files = [f for f in os.listdir(directory) if \"Lhr_Detail\" in f]\n",
    "    \n",
    "    student_data = pd.concat([pd.read_csv(os.path.join(directory, file), sep=\",\") for file in student_files])\n",
    "    detail_data = pd.concat([pd.read_csv(os.path.join(directory, file), sep=\",\") for file in detail_files])\n",
    "    \n",
    "    return student_data, detail_data\n",
    "\n",
    "# Loading Lahore students and details data\n",
    "lahore_students, lahore_details = load_lahore_files(lahore_folder_path)\n",
    "\n",
    "# Checking the first few rows of the Lahore students dataset\n",
    "lahore_students.head()\n"
   ]
  },
  {
   "cell_type": "code",
   "execution_count": 17,
   "metadata": {},
   "outputs": [
    {
     "data": {
      "text/plain": [
       "(['Mounazza', 'Nafia', 'Rida', 'Qurat-ul-Ain', 'Rabia'],\n",
       " ['Lalamusa', 'Multan', 'Faisalabad', 'D.I. Khan', 'Jacobabad'])"
      ]
     },
     "execution_count": 17,
     "metadata": {},
     "output_type": "execute_result"
    }
   ],
   "source": [
    "# Loading the reference list of female names\n",
    "female_names = set()\n",
    "with open('F:\\MS\\GIKI\\smester 1\\DATA MINING\\Assignment\\Assignment\\Female.txt', 'r') as file:\n",
    "    for line in file:\n",
    "        female_names.add(line.strip())\n",
    "\n",
    "# Loading the reference list of cities\n",
    "cities = set()\n",
    "with open('F:/MS/GIKI/smester 1/DATA MINING/Assignment/Assignment/PakistanCitiesList.txt', 'r') as file:\n",
    "    for line in file:\n",
    "        cities.add(line.strip())\n",
    "\n",
    "# Checking the first few names and cities\n",
    "list(female_names)[:5], list(cities)[:5]\n"
   ]
  },
  {
   "cell_type": "code",
   "execution_count": 29,
   "metadata": {},
   "outputs": [
    {
     "data": {
      "text/plain": [
       "<_io.TextIOWrapper name='F:/MS/GIKI/smester 1/DATA MINING/Assignment/Assignment/PakistanCitiesList.txt' mode='r' encoding='cp1252'>"
      ]
     },
     "execution_count": 29,
     "metadata": {},
     "output_type": "execute_result"
    }
   ],
   "source": [
    "lst=open(\"F:/MS/GIKI/smester 1/DATA MINING/Assignment/Assignment/PakistanCitiesList.txt\", 'r')\n",
    "lst"
   ]
  },
  {
   "cell_type": "code",
   "execution_count": 35,
   "metadata": {},
   "outputs": [
    {
     "data": {
      "text/html": [
       "<div>\n",
       "<style scoped>\n",
       "    .dataframe tbody tr th:only-of-type {\n",
       "        vertical-align: middle;\n",
       "    }\n",
       "\n",
       "    .dataframe tbody tr th {\n",
       "        vertical-align: top;\n",
       "    }\n",
       "\n",
       "    .dataframe thead th {\n",
       "        text-align: right;\n",
       "    }\n",
       "</style>\n",
       "<table border=\"1\" class=\"dataframe\">\n",
       "  <thead>\n",
       "    <tr style=\"text-align: right;\">\n",
       "      <th></th>\n",
       "      <th>Name</th>\n",
       "      <th>First Name</th>\n",
       "      <th>Last Name</th>\n",
       "      <th>Father</th>\n",
       "      <th>Father First Name</th>\n",
       "      <th>Father Last Name</th>\n",
       "      <th>Address</th>\n",
       "      <th>City Name</th>\n",
       "    </tr>\n",
       "  </thead>\n",
       "  <tbody>\n",
       "    <tr>\n",
       "      <th>0</th>\n",
       "      <td>Emmad Farzan</td>\n",
       "      <td>Emmad</td>\n",
       "      <td>Farzan</td>\n",
       "      <td>Farzan Farooq</td>\n",
       "      <td>Farzan</td>\n",
       "      <td>Farooq</td>\n",
       "      <td>House No. 401 s#  73 Kumria Mansehra</td>\n",
       "      <td>Mansehra</td>\n",
       "    </tr>\n",
       "    <tr>\n",
       "      <th>1</th>\n",
       "      <td>Adila Shabeer</td>\n",
       "      <td>Adila</td>\n",
       "      <td>Shabeer</td>\n",
       "      <td>Shabeer Mujeeb</td>\n",
       "      <td>Shabeer</td>\n",
       "      <td>Mujeeb</td>\n",
       "      <td>Ho. # 947 St. no.69  Illyas abad Gilgit</td>\n",
       "      <td>Gilgit</td>\n",
       "    </tr>\n",
       "    <tr>\n",
       "      <th>2</th>\n",
       "      <td>Bakht Junaid Ismaili</td>\n",
       "      <td>Bakht</td>\n",
       "      <td>Ismaili</td>\n",
       "      <td>Mustansar Ismaili</td>\n",
       "      <td>Mustansar</td>\n",
       "      <td>Ismaili</td>\n",
       "      <td>Ho. no.262 St. no.64  Air port coloney Psh</td>\n",
       "      <td>None</td>\n",
       "    </tr>\n",
       "    <tr>\n",
       "      <th>3</th>\n",
       "      <td>Sana Ullah Viqar-ul-Islam Hussaini</td>\n",
       "      <td>Sana</td>\n",
       "      <td>Hussaini</td>\n",
       "      <td>AAmer Abdur Rahman Hussaini</td>\n",
       "      <td>AAmer</td>\n",
       "      <td>Hussaini</td>\n",
       "      <td>h no.576 S No.59  Biyaal Haripur</td>\n",
       "      <td>Haripur</td>\n",
       "    </tr>\n",
       "    <tr>\n",
       "      <th>4</th>\n",
       "      <td>Nadia Haqq</td>\n",
       "      <td>Nadia</td>\n",
       "      <td>Haqq</td>\n",
       "      <td>Mouhammed Munir Haqq</td>\n",
       "      <td>Mouhammed</td>\n",
       "      <td>Haqq</td>\n",
       "      <td>Ho. No.123 Street No.23  Bara market Psh</td>\n",
       "      <td>None</td>\n",
       "    </tr>\n",
       "  </tbody>\n",
       "</table>\n",
       "</div>"
      ],
      "text/plain": [
       "                                 Name First Name Last Name  \\\n",
       "0                        Emmad Farzan      Emmad    Farzan   \n",
       "1                       Adila Shabeer      Adila   Shabeer   \n",
       "2                Bakht Junaid Ismaili      Bakht   Ismaili   \n",
       "3  Sana Ullah Viqar-ul-Islam Hussaini       Sana  Hussaini   \n",
       "4                          Nadia Haqq      Nadia      Haqq   \n",
       "\n",
       "                        Father Father First Name Father Last Name  \\\n",
       "0                Farzan Farooq            Farzan           Farooq   \n",
       "1               Shabeer Mujeeb           Shabeer           Mujeeb   \n",
       "2            Mustansar Ismaili         Mustansar          Ismaili   \n",
       "3  AAmer Abdur Rahman Hussaini             AAmer         Hussaini   \n",
       "4         Mouhammed Munir Haqq         Mouhammed             Haqq   \n",
       "\n",
       "                                      Address City Name  \n",
       "0        House No. 401 s#  73 Kumria Mansehra  Mansehra  \n",
       "1     Ho. # 947 St. no.69  Illyas abad Gilgit    Gilgit  \n",
       "2  Ho. no.262 St. no.64  Air port coloney Psh      None  \n",
       "3            h no.576 S No.59  Biyaal Haripur   Haripur  \n",
       "4    Ho. No.123 Street No.23  Bara market Psh      None  "
      ]
     },
     "execution_count": 35,
     "metadata": {},
     "output_type": "execute_result"
    }
   ],
   "source": [
    "# Loading the provided list of cities\n",
    "\n",
    "with open(\"F:/MS/GIKI/smester 1/DATA MINING/Assignment/Assignment/PakistanCitiesList.txt\", 'r') as file:\n",
    "    cities_list = file.read().splitlines()\n",
    "# with open(\"F:\\MS\\GIKI\\smester 1\\DATA MINING\\Assignment\\Assignment\\PakistanCitiesList.txt\", \"r\") as file:\n",
    "#     cities_list = file.read().splitlines()\n",
    "\n",
    "# Splitting the 'Name' column into 'First Name' and 'Last Name' for Peshawar students\n",
    "peshawar_students['First Name'] = peshawar_students['Name'].str.split().str[0]\n",
    "peshawar_students['Last Name'] = peshawar_students['Name'].str.split().str[-1]\n",
    "\n",
    "# Splitting the 'Father' column into 'Father First Name' and 'Father Last Name' for Peshawar students\n",
    "peshawar_students['Father First Name'] = peshawar_students['Father'].str.split().str[0]\n",
    "peshawar_students['Father Last Name'] = peshawar_students['Father'].str.split().str[-1]\n",
    "\n",
    "# Standardizing the city names in the Peshawar students' dataset using the provided cities list\n",
    "peshawar_students['City Name'] = peshawar_students['Address'].str.split().str[-1]\n",
    "peshawar_students['City Name'] = peshawar_students['City Name'].apply(lambda x: x if x in cities_list else None)\n",
    "\n",
    "# Displaying the first few rows to check the changes for Peshawar students\n",
    "peshawar_students[['Name', 'First Name', 'Last Name', 'Father', 'Father First Name', 'Father Last Name', 'Address', 'City Name']].head()\n",
    "\n"
   ]
  },
  {
   "cell_type": "code",
   "execution_count": 32,
   "metadata": {},
   "outputs": [
    {
     "data": {
      "text/plain": [
       "(    SID                    St_Name             Father_Name  Gender  \\\n",
       " 0  2400       Gul Abdul Suleh Awan   Chodhary Mustafa Awan     0.0   \n",
       " 1  2401             Fakhar Mujtaba           Mujtaba Qutab     0.0   \n",
       " 2  2402               Zeenat Ayyaz       Ayyaz Abdul Suleh     1.0   \n",
       " 3  2403  Wajid Abdul Hameed Namani          Shaheen Namani     0.0   \n",
       " 4  2404              Annan Kiyyani  Soneel Mehmood Kiyyani     0.0   \n",
       " \n",
       "                                             Address Date of Birth   Reg Date  \\\n",
       " 0              H No.993 s no.74  kurang nala Multan     24-Nov-81  18-Aug-00   \n",
       " 1       Ho. no. 540 St. no. 69 Chan chirag LalaMusa     25-Aug-81  21-Aug-00   \n",
       " 2               h no. 855 St. no. 32 Kotlia Sialkot     27-Aug-81  24-Aug-00   \n",
       " 3       Ho. No. 169 S No. 28 Saidpur road Bhawalpur     27-May-81  27-Aug-00   \n",
       " 4  H#  484 Street No. 23 Jaamia Masjid road Kharian     29-Jan-80   2-Aug-00   \n",
       " \n",
       "   Reg Status Degree Status Last Degree  \n",
       " 0          A             C        HSSC  \n",
       " 1          A             C     A level  \n",
       " 2          A             C        HSSC  \n",
       " 3          A             C     A level  \n",
       " 4          A             C     A-Level  ,\n",
       "     SID Degree Semester  Course  Marks Discipline\n",
       " 0  2400     BS   Fall00  CS-101     83         CS\n",
       " 1  2400     BS   Fall00  CS-102     93         CS\n",
       " 2  2400     BS   Fall00  CS-103     78         CS\n",
       " 3  2400     BS   Fall00  CS-104     55         CS\n",
       " 4  2400     BS   Fall00  SS-201     99         CS)"
      ]
     },
     "execution_count": 32,
     "metadata": {},
     "output_type": "execute_result"
    }
   ],
   "source": [
    "# Loading all student and details files for Lahore campus\n",
    "lahore_students, lahore_details = load_all_files(lahore_folder_path, \"Lahore\")\n",
    "\n",
    "# Displaying the first few rows of each dataset for Lahore\n",
    "lahore_students_head, lahore_details_head = lahore_students.head(), lahore_details.head()\n",
    "lahore_students_head, lahore_details_head\n"
   ]
  },
  {
   "cell_type": "code",
   "execution_count": 33,
   "metadata": {},
   "outputs": [
    {
     "data": {
      "text/html": [
       "<div>\n",
       "<style scoped>\n",
       "    .dataframe tbody tr th:only-of-type {\n",
       "        vertical-align: middle;\n",
       "    }\n",
       "\n",
       "    .dataframe tbody tr th {\n",
       "        vertical-align: top;\n",
       "    }\n",
       "\n",
       "    .dataframe thead th {\n",
       "        text-align: right;\n",
       "    }\n",
       "</style>\n",
       "<table border=\"1\" class=\"dataframe\">\n",
       "  <thead>\n",
       "    <tr style=\"text-align: right;\">\n",
       "      <th></th>\n",
       "      <th>St_Name</th>\n",
       "      <th>First Name</th>\n",
       "      <th>Last Name</th>\n",
       "      <th>Father_Name</th>\n",
       "      <th>Father First Name</th>\n",
       "      <th>Father Last Name</th>\n",
       "      <th>Address</th>\n",
       "      <th>City Name</th>\n",
       "      <th>Gender</th>\n",
       "    </tr>\n",
       "  </thead>\n",
       "  <tbody>\n",
       "    <tr>\n",
       "      <th>0</th>\n",
       "      <td>Gul Abdul Suleh Awan</td>\n",
       "      <td>Gul</td>\n",
       "      <td>Awan</td>\n",
       "      <td>Chodhary Mustafa Awan</td>\n",
       "      <td>Chodhary</td>\n",
       "      <td>Awan</td>\n",
       "      <td>H No.993 s no.74  kurang nala Multan</td>\n",
       "      <td>Multan</td>\n",
       "      <td>M</td>\n",
       "    </tr>\n",
       "    <tr>\n",
       "      <th>1</th>\n",
       "      <td>Fakhar Mujtaba</td>\n",
       "      <td>Fakhar</td>\n",
       "      <td>Mujtaba</td>\n",
       "      <td>Mujtaba Qutab</td>\n",
       "      <td>Mujtaba</td>\n",
       "      <td>Qutab</td>\n",
       "      <td>Ho. no. 540 St. no. 69 Chan chirag LalaMusa</td>\n",
       "      <td>None</td>\n",
       "      <td>M</td>\n",
       "    </tr>\n",
       "    <tr>\n",
       "      <th>2</th>\n",
       "      <td>Zeenat Ayyaz</td>\n",
       "      <td>Zeenat</td>\n",
       "      <td>Ayyaz</td>\n",
       "      <td>Ayyaz Abdul Suleh</td>\n",
       "      <td>Ayyaz</td>\n",
       "      <td>Suleh</td>\n",
       "      <td>h no. 855 St. no. 32 Kotlia Sialkot</td>\n",
       "      <td>Sialkot</td>\n",
       "      <td>F</td>\n",
       "    </tr>\n",
       "    <tr>\n",
       "      <th>3</th>\n",
       "      <td>Wajid Abdul Hameed Namani</td>\n",
       "      <td>Wajid</td>\n",
       "      <td>Namani</td>\n",
       "      <td>Shaheen Namani</td>\n",
       "      <td>Shaheen</td>\n",
       "      <td>Namani</td>\n",
       "      <td>Ho. No. 169 S No. 28 Saidpur road Bhawalpur</td>\n",
       "      <td>Bhawalpur</td>\n",
       "      <td>M</td>\n",
       "    </tr>\n",
       "    <tr>\n",
       "      <th>4</th>\n",
       "      <td>Annan Kiyyani</td>\n",
       "      <td>Annan</td>\n",
       "      <td>Kiyyani</td>\n",
       "      <td>Soneel Mehmood Kiyyani</td>\n",
       "      <td>Soneel</td>\n",
       "      <td>Kiyyani</td>\n",
       "      <td>H#  484 Street No. 23 Jaamia Masjid road Kharian</td>\n",
       "      <td>Kharian</td>\n",
       "      <td>M</td>\n",
       "    </tr>\n",
       "  </tbody>\n",
       "</table>\n",
       "</div>"
      ],
      "text/plain": [
       "                     St_Name First Name Last Name             Father_Name  \\\n",
       "0       Gul Abdul Suleh Awan        Gul      Awan   Chodhary Mustafa Awan   \n",
       "1             Fakhar Mujtaba     Fakhar   Mujtaba           Mujtaba Qutab   \n",
       "2               Zeenat Ayyaz     Zeenat     Ayyaz       Ayyaz Abdul Suleh   \n",
       "3  Wajid Abdul Hameed Namani      Wajid    Namani          Shaheen Namani   \n",
       "4              Annan Kiyyani      Annan   Kiyyani  Soneel Mehmood Kiyyani   \n",
       "\n",
       "  Father First Name Father Last Name  \\\n",
       "0          Chodhary             Awan   \n",
       "1           Mujtaba            Qutab   \n",
       "2             Ayyaz            Suleh   \n",
       "3           Shaheen           Namani   \n",
       "4            Soneel          Kiyyani   \n",
       "\n",
       "                                            Address  City Name Gender  \n",
       "0              H No.993 s no.74  kurang nala Multan     Multan      M  \n",
       "1       Ho. no. 540 St. no. 69 Chan chirag LalaMusa       None      M  \n",
       "2               h no. 855 St. no. 32 Kotlia Sialkot    Sialkot      F  \n",
       "3       Ho. No. 169 S No. 28 Saidpur road Bhawalpur  Bhawalpur      M  \n",
       "4  H#  484 Street No. 23 Jaamia Masjid road Kharian    Kharian      M  "
      ]
     },
     "execution_count": 33,
     "metadata": {},
     "output_type": "execute_result"
    }
   ],
   "source": [
    "# Splitting the 'St_Name' column into 'First Name' and 'Last Name' for Lahore students\n",
    "lahore_students['First Name'] = lahore_students['St_Name'].str.split().str[0]\n",
    "lahore_students['Last Name'] = lahore_students['St_Name'].str.split().str[-1]\n",
    "\n",
    "# Splitting the 'Father_Name' column into 'Father First Name' and 'Father Last Name' for Lahore students\n",
    "lahore_students['Father First Name'] = lahore_students['Father_Name'].str.split().str[0]\n",
    "lahore_students['Father Last Name'] = lahore_students['Father_Name'].str.split().str[-1]\n",
    "\n",
    "# Extracting city names from 'Address' column for Lahore students\n",
    "lahore_students['City Name'] = lahore_students['Address'].str.split().str[-1]\n",
    "\n",
    "# Standardizing the city names in the Lahore students' dataset using the provided cities list\n",
    "lahore_students['City Name'] = lahore_students['City Name'].apply(lambda x: x if x in cities_list else None)\n",
    "\n",
    "# Standardizing the gender representation in the Lahore students' dataset\n",
    "lahore_students['Gender'] = lahore_students['Gender'].apply(lambda x: 'F' if x == 1.0 else ('M' if x == 0.0 else None))\n",
    "\n",
    "# Displaying the first few rows to check the changes\n",
    "lahore_students[['St_Name', 'First Name', 'Last Name', 'Father_Name', 'Father First Name', 'Father Last Name', 'Address', 'City Name', 'Gender']].head()\n"
   ]
  },
  {
   "cell_type": "code",
   "execution_count": 52,
   "metadata": {},
   "outputs": [
    {
     "data": {
      "text/html": [
       "<div>\n",
       "<style scoped>\n",
       "    .dataframe tbody tr th:only-of-type {\n",
       "        vertical-align: middle;\n",
       "    }\n",
       "\n",
       "    .dataframe tbody tr th {\n",
       "        vertical-align: top;\n",
       "    }\n",
       "\n",
       "    .dataframe thead th {\n",
       "        text-align: right;\n",
       "    }\n",
       "</style>\n",
       "<table border=\"1\" class=\"dataframe\">\n",
       "  <thead>\n",
       "    <tr style=\"text-align: right;\">\n",
       "      <th></th>\n",
       "      <th>SID</th>\n",
       "      <th>Course</th>\n",
       "      <th>Marks</th>\n",
       "      <th>Discipline</th>\n",
       "      <th>Semester</th>\n",
       "      <th>Year</th>\n",
       "    </tr>\n",
       "  </thead>\n",
       "  <tbody>\n",
       "    <tr>\n",
       "      <th>0</th>\n",
       "      <td>1800</td>\n",
       "      <td>CS-101</td>\n",
       "      <td>73</td>\n",
       "      <td>CS</td>\n",
       "      <td>Fall</td>\n",
       "      <td>2000</td>\n",
       "    </tr>\n",
       "    <tr>\n",
       "      <th>1</th>\n",
       "      <td>1800</td>\n",
       "      <td>CS-102</td>\n",
       "      <td>99</td>\n",
       "      <td>CS</td>\n",
       "      <td>Fall</td>\n",
       "      <td>2000</td>\n",
       "    </tr>\n",
       "    <tr>\n",
       "      <th>2</th>\n",
       "      <td>1800</td>\n",
       "      <td>CS-103</td>\n",
       "      <td>70</td>\n",
       "      <td>CS</td>\n",
       "      <td>Fall</td>\n",
       "      <td>2000</td>\n",
       "    </tr>\n",
       "    <tr>\n",
       "      <th>3</th>\n",
       "      <td>1800</td>\n",
       "      <td>CS-104</td>\n",
       "      <td>87</td>\n",
       "      <td>CS</td>\n",
       "      <td>Fall</td>\n",
       "      <td>2000</td>\n",
       "    </tr>\n",
       "    <tr>\n",
       "      <th>4</th>\n",
       "      <td>1800</td>\n",
       "      <td>SS-201</td>\n",
       "      <td>56</td>\n",
       "      <td>CS</td>\n",
       "      <td>Fall</td>\n",
       "      <td>2000</td>\n",
       "    </tr>\n",
       "  </tbody>\n",
       "</table>\n",
       "</div>"
      ],
      "text/plain": [
       "    SID  Course  Marks Discipline Semester  Year\n",
       "0  1800  CS-101     73         CS     Fall  2000\n",
       "1  1800  CS-102     99         CS     Fall  2000\n",
       "2  1800  CS-103     70         CS     Fall  2000\n",
       "3  1800  CS-104     87         CS     Fall  2000\n",
       "4  1800  SS-201     56         CS     Fall  2000"
      ]
     },
     "execution_count": 52,
     "metadata": {},
     "output_type": "execute_result"
    }
   ],
   "source": [
    "peshawar_details.head()"
   ]
  },
  {
   "cell_type": "code",
   "execution_count": 8,
   "metadata": {},
   "outputs": [
    {
     "data": {
      "text/plain": [
       "(Reg#             0\n",
       " Name             0\n",
       " Father           0\n",
       " Address          0\n",
       " Date of Birth    0\n",
       " lastDeg          0\n",
       " Reg Date         0\n",
       " Reg Status       0\n",
       " Deg Status       0\n",
       " dtype: int64,\n",
       " Reg#       0\n",
       " Courses    0\n",
       " Score      0\n",
       " Program    0\n",
       " Sem        0\n",
       " Year       0\n",
       " dtype: int64)"
      ]
     },
     "execution_count": 8,
     "metadata": {},
     "output_type": "execute_result"
    }
   ],
   "source": [
    "# Checking for missing values in Peshawar students' dataset\n",
    "peshawar_students_missing = peshawar_students.isnull().sum()\n",
    "\n",
    "# Checking for missing values in Peshawar courses' dataset\n",
    "peshawar_details_missing = peshawar_details.isnull().sum()\n",
    "\n",
    "peshawar_students_missing, peshawar_details_missing\n",
    "\n"
   ]
  },
  {
   "cell_type": "code",
   "execution_count": 36,
   "metadata": {},
   "outputs": [
    {
     "data": {
      "text/plain": [
       "(      SID                       Name                  Father Gender  \\\n",
       " 0  2400.0       Gul Abdul Suleh Awan   Chodhary Mustafa Awan      M   \n",
       " 1  2401.0             Fakhar Mujtaba           Mujtaba Qutab      M   \n",
       " 2  2402.0               Zeenat Ayyaz       Ayyaz Abdul Suleh      F   \n",
       " 3  2403.0  Wajid Abdul Hameed Namani          Shaheen Namani      M   \n",
       " 4  2404.0              Annan Kiyyani  Soneel Mehmood Kiyyani      M   \n",
       " \n",
       "                                             Address Date of Birth   Reg Date  \\\n",
       " 0              H No.993 s no.74  kurang nala Multan     24-Nov-81  18-Aug-00   \n",
       " 1       Ho. no. 540 St. no. 69 Chan chirag LalaMusa     25-Aug-81  21-Aug-00   \n",
       " 2               h no. 855 St. no. 32 Kotlia Sialkot     27-Aug-81  24-Aug-00   \n",
       " 3       Ho. No. 169 S No. 28 Saidpur road Bhawalpur     27-May-81  27-Aug-00   \n",
       " 4  H#  484 Street No. 23 Jaamia Masjid road Kharian     29-Jan-80   2-Aug-00   \n",
       " \n",
       "   Reg Status Degree Status Last Degree First Name Last Name Father First Name  \\\n",
       " 0          A             C        HSSC        Gul      Awan          Chodhary   \n",
       " 1          A             C     A level     Fakhar   Mujtaba           Mujtaba   \n",
       " 2          A             C        HSSC     Zeenat     Ayyaz             Ayyaz   \n",
       " 3          A             C     A level      Wajid    Namani           Shaheen   \n",
       " 4          A             C     A-Level      Annan   Kiyyani            Soneel   \n",
       " \n",
       "   Father Last Name  City Name  Reg# lastDeg Deg Status  \n",
       " 0             Awan     Multan   NaN     NaN        NaN  \n",
       " 1            Qutab       None   NaN     NaN        NaN  \n",
       " 2            Suleh    Sialkot   NaN     NaN        NaN  \n",
       " 3           Namani  Bhawalpur   NaN     NaN        NaN  \n",
       " 4          Kiyyani    Kharian   NaN     NaN        NaN  ,\n",
       " (8900, 18))"
      ]
     },
     "execution_count": 36,
     "metadata": {},
     "output_type": "execute_result"
    }
   ],
   "source": [
    "# Harmonizing the column names\n",
    "lahore_students.rename(columns={\n",
    "    'St_Name': 'Name',\n",
    "    'Father_Name': 'Father'\n",
    "}, inplace=True)\n",
    "\n",
    "# Concatenating the Lahore and Peshawar students' datasets\n",
    "combined_students = pd.concat([lahore_students, peshawar_students], ignore_index=True)\n",
    "\n",
    "# Verifying the integration by displaying the first few rows and the shape of the combined dataset\n",
    "combined_students_head = combined_students.head()\n",
    "combined_students_shape = combined_students.shape\n",
    "\n",
    "combined_students_head, combined_students_shape\n"
   ]
  },
  {
   "cell_type": "code",
   "execution_count": 37,
   "metadata": {},
   "outputs": [
    {
     "data": {
      "text/plain": [
       "(SID                  4400\n",
       " Name                 8161\n",
       " Father               7664\n",
       " Gender                  2\n",
       " Address              7952\n",
       " Date of Birth        5495\n",
       " Reg Date              638\n",
       " Reg Status              1\n",
       " Degree Status           2\n",
       " Last Degree            12\n",
       " First Name            494\n",
       " Last Name             315\n",
       " Father First Name     293\n",
       " Father Last Name      315\n",
       " City Name              26\n",
       " Reg#                 3300\n",
       " lastDeg                12\n",
       " Deg Status              2\n",
       " dtype: int64,\n",
       " SID                  3700\n",
       " Name                    0\n",
       " Father                  0\n",
       " Gender               3703\n",
       " Address                 0\n",
       " Date of Birth           2\n",
       " Reg Date                0\n",
       " Reg Status              0\n",
       " Degree Status        3700\n",
       " Last Degree          3700\n",
       " First Name              0\n",
       " Last Name               0\n",
       " Father First Name       0\n",
       " Father Last Name        0\n",
       " City Name            2946\n",
       " Reg#                 5200\n",
       " lastDeg              5200\n",
       " Deg Status           5200\n",
       " dtype: int64,\n",
       " array([None, nan], dtype=object),\n",
       " array([], dtype=object),\n",
       " array([nan], dtype=object))"
      ]
     },
     "execution_count": 37,
     "metadata": {},
     "output_type": "execute_result"
    }
   ],
   "source": [
    "# Computing the number of unique values and nulls for each column\n",
    "unique_values = combined_students.nunique()\n",
    "null_values = combined_students.isnull().sum()\n",
    "\n",
    "# Checking for invalid gender values (other than 'M' and 'F')\n",
    "invalid_gender_values = combined_students[~combined_students['Gender'].isin(['M', 'F'])]['Gender'].unique()\n",
    "\n",
    "# Checking for invalid Reg Status values (other than 'A' and 'T')\n",
    "invalid_reg_status_values = combined_students[~combined_students['Reg Status'].isin(['A', 'T'])]['Reg Status'].unique()\n",
    "\n",
    "# Checking for invalid Degree Status values (other than 'C' and 'I')\n",
    "invalid_degree_status_values = combined_students[~combined_students['Degree Status'].isin(['C', 'I'])]['Degree Status'].unique()\n",
    "\n",
    "unique_values, null_values, invalid_gender_values, invalid_reg_status_values, invalid_degree_status_values\n"
   ]
  },
  {
   "cell_type": "code",
   "execution_count": 38,
   "metadata": {},
   "outputs": [
    {
     "data": {
      "text/plain": [
       "{'Unique SID Values': 4400,\n",
       " 'Unique Values for Each Column': SID                  4400\n",
       " Name                 8161\n",
       " Father               7664\n",
       " Gender                  2\n",
       " Address              7952\n",
       " Date of Birth        5495\n",
       " Reg Date              638\n",
       " Reg Status              1\n",
       " Degree Status           2\n",
       " Last Degree            12\n",
       " First Name            494\n",
       " Last Name             315\n",
       " Father First Name     293\n",
       " Father Last Name      315\n",
       " City Name              26\n",
       " Reg#                 3300\n",
       " lastDeg                12\n",
       " Deg Status              2\n",
       " dtype: int64,\n",
       " 'Number of Nulls for Each Column': SID                  3700\n",
       " Name                    0\n",
       " Father                  0\n",
       " Gender               3703\n",
       " Address                 0\n",
       " Date of Birth           2\n",
       " Reg Date                0\n",
       " Reg Status              0\n",
       " Degree Status        3700\n",
       " Last Degree          3700\n",
       " First Name              0\n",
       " Last Name               0\n",
       " Father First Name       0\n",
       " Father Last Name        0\n",
       " City Name            2946\n",
       " Reg#                 5200\n",
       " lastDeg              5200\n",
       " Deg Status           5200\n",
       " dtype: int64,\n",
       " 'Invalid Gender Values': array([None, nan], dtype=object),\n",
       " 'Invalid Reg Status Values': array([], dtype=object),\n",
       " 'Invalid Degree Status Values': array([nan], dtype=object)}"
      ]
     },
     "execution_count": 38,
     "metadata": {},
     "output_type": "execute_result"
    }
   ],
   "source": [
    "# Re-evaluating the number of unique SID values\n",
    "unique_SID_values = combined_students['SID'].nunique()\n",
    "\n",
    "# Differentiating the outputs with statements\n",
    "output_statements = {\n",
    "    \"Unique SID Values\": unique_SID_values,\n",
    "    \"Unique Values for Each Column\": unique_values,\n",
    "    \"Number of Nulls for Each Column\": null_values,\n",
    "    \"Invalid Gender Values\": invalid_gender_values,\n",
    "    \"Invalid Reg Status Values\": invalid_reg_status_values,\n",
    "    \"Invalid Degree Status Values\": invalid_degree_status_values\n",
    "}\n",
    "\n",
    "output_statements\n"
   ]
  },
  {
   "cell_type": "markdown",
   "metadata": {},
   "source": [
    "# Total no. of courses"
   ]
  },
  {
   "cell_type": "code",
   "execution_count": 39,
   "metadata": {},
   "outputs": [
    {
     "data": {
      "text/plain": [
       "(    SID Degree Semester  Course  Marks Discipline  Year\n",
       " 0  2400     BS   Fall00  CS-101     83         CS  2000\n",
       " 1  2400     BS   Fall00  CS-102     93         CS  2000\n",
       " 2  2400     BS   Fall00  CS-103     78         CS  2000\n",
       " 3  2400     BS   Fall00  CS-104     55         CS  2000\n",
       " 4  2400     BS   Fall00  SS-201     99         CS  2000,\n",
       " (331800, 7))"
      ]
     },
     "execution_count": 39,
     "metadata": {},
     "output_type": "execute_result"
    }
   ],
   "source": [
    "# Loading all course details for both Lahore and Peshawar campuses\n",
    "lahore_courses = lahore_details\n",
    "peshawar_courses = peshawar_details\n",
    "\n",
    "# Harmonizing column names for Peshawar courses to match Lahore's\n",
    "peshawar_courses.rename(columns={\n",
    "    'Reg#': 'SID',\n",
    "    'Courses': 'Course',\n",
    "    'Score': 'Marks',\n",
    "    'Program': 'Discipline',\n",
    "    'Sem': 'Semester'\n",
    "}, inplace=True)\n",
    "\n",
    "# Since Lahore courses do not have the \"Year\" column, we'll add it based on the 'Semester' column\n",
    "lahore_courses['Year'] = lahore_courses['Semester'].str[-2:].astype(int) + 2000\n",
    "\n",
    "# Concatenating the Lahore and Peshawar courses\n",
    "combined_courses = pd.concat([lahore_courses, peshawar_courses], ignore_index=True)\n",
    "\n",
    "# Verifying the integration by displaying the first few rows and the shape of the combined courses dataset\n",
    "combined_courses_head = combined_courses.head()\n",
    "combined_courses_shape = combined_courses.shape\n",
    "\n",
    "combined_courses_head, combined_courses_shape\n"
   ]
  },
  {
   "cell_type": "code",
   "execution_count": 40,
   "metadata": {},
   "outputs": [
    {
     "data": {
      "text/plain": [
       "(120,\n",
       " M    3464\n",
       " F    1733\n",
       " Name: Gender, dtype: int64)"
      ]
     },
     "execution_count": 40,
     "metadata": {},
     "output_type": "execute_result"
    }
   ],
   "source": [
    "# Computing the total number of unique courses\n",
    "total_unique_courses = combined_courses['Course'].nunique()\n",
    "\n",
    "# Computing the total number of female vs. male students\n",
    "gender_distribution = combined_students['Gender'].value_counts()\n",
    "\n",
    "total_unique_courses, gender_distribution\n"
   ]
  },
  {
   "cell_type": "markdown",
   "metadata": {},
   "source": [
    "# Determining the number of people who've taken more than 5 courses in a semester"
   ]
  },
  {
   "cell_type": "code",
   "execution_count": 47,
   "metadata": {},
   "outputs": [
    {
     "data": {
      "text/plain": [
       "(4400, 5200, 3300, 3700)"
      ]
     },
     "execution_count": 47,
     "metadata": {},
     "output_type": "execute_result"
    }
   ],
   "source": [
    "# 1. Relationship between total no. of unique student ID’s and total no. of students for both campuses.\n",
    "\n",
    "# For Lahore campus\n",
    "unique_student_ids_lahore = lahore_students['SID'].nunique()\n",
    "total_students_lahore = lahore_students.shape[0]\n",
    "\n",
    "# For Peshawar campus\n",
    "unique_student_ids_peshawar = peshawar_students['Reg#'].nunique()\n",
    "total_students_peshawar = peshawar_students.shape[0]\n",
    "\n",
    "unique_student_ids_lahore, total_students_lahore, unique_student_ids_peshawar, total_students_peshawar\n"
   ]
  },
  {
   "cell_type": "code",
   "execution_count": 42,
   "metadata": {},
   "outputs": [
    {
     "name": "stdout",
     "output_type": "stream",
     "text": [
      "Total Number of Students Who've Taken More Than 5 Courses in a Semester: 4400\n",
      "Total Unique Student IDs: 4400\n",
      "Total Students: 8900\n"
     ]
    }
   ],
   "source": [
    "# Determining the number of people who've taken more than 5 courses in a semester\n",
    "courses_per_student_per_semester = combined_courses.groupby(['SID', 'Semester']).size()\n",
    "students_more_than_5_courses = courses_per_student_per_semester[courses_per_student_per_semester > 5].reset_index()['SID'].nunique()\n",
    "\n",
    "# Analyzing the relationship between the total number of unique student IDs and the total number of students\n",
    "total_unique_student_IDs = combined_students['SID'].nunique()\n",
    "total_students = combined_students.shape[0]\n",
    "\n",
    "# Printing the results\n",
    "print(f\"Total Number of Students Who've Taken More Than 5 Courses in a Semester: {students_more_than_5_courses}\")\n",
    "print(f\"Total Unique Student IDs: {total_unique_student_IDs}\")\n",
    "print(f\"Total Students: {total_students}\")\n"
   ]
  },
  {
   "cell_type": "code",
   "execution_count": null,
   "metadata": {},
   "outputs": [],
   "source": [
    "\n",
    "\n",
    "# Converting date columns to datetime format for validation\n",
    "combined_students['Date of Birth'] = pd.to_datetime(combined_students['Date of Birth'], errors='coerce')\n",
    "combined_students['Reg Date'] = pd.to_datetime(combined_students['Reg Date'], errors='coerce')\n",
    "\n",
    "# Checking for records where DOB is not smaller than the Reg. Date\n",
    "invalid_dob_regdate_records = combined_students[combined_students['Date of Birth'] >= combined_students['Reg Date']]\n",
    "\n",
    "# Checking for invalid dates in the 'Date of Birth' and 'Reg Date' columns\n",
    "invalid_dob_dates = combined_students['Date of Birth'].isnull().sum() - combined_students['Date of Birth'].isna().sum()\n",
    "invalid_reg_dates = combined_students['Reg Date'].isnull().sum() - combined_students['Reg Date'].isna().sum()\n",
    "\n",
    "invalid_dob_regdate_records_count = invalid_dob_regdate_records.shape[0]\n",
    "\n",
    "# Printing the results\n",
    "print(f\"Invalid Date of Birth Entries: {invalid_dob_dates}\")\n",
    "print(f\"Invalid Registration Date Entries: {invalid_reg_dates}\")\n",
    "print(f\"Records Where Date of Birth is Not Smaller than the Registration Date: {invalid_dob_regdate_records_count}\")\n"
   ]
  },
  {
   "cell_type": "markdown",
   "metadata": {},
   "source": [
    "# Marks Validation Results:"
   ]
  },
  {
   "cell_type": "code",
   "execution_count": 43,
   "metadata": {},
   "outputs": [
    {
     "name": "stdout",
     "output_type": "stream",
     "text": [
      "Number of Records with Invalid Marks (outside 0-100 range): 0\n"
     ]
    }
   ],
   "source": [
    "# Validating the marks to ensure they are within the range 0 to 100\n",
    "invalid_marks_records = combined_courses[(combined_courses['Marks'] < 0) | (combined_courses['Marks'] > 100)]\n",
    "\n",
    "# Printing the results\n",
    "invalid_marks_count = invalid_marks_records.shape[0]\n",
    "print(f\"Number of Records with Invalid Marks (outside 0-100 range): {invalid_marks_count}\")\n"
   ]
  },
  {
   "cell_type": "code",
   "execution_count": 44,
   "metadata": {},
   "outputs": [
    {
     "data": {
      "text/plain": [
       "(      SID                       Name                  Father Gender  \\\n",
       " 0  2400.0       Gul Abdul Suleh Awan   Chodhary Mustafa Awan      M   \n",
       " 1  2401.0             Fakhar Mujtaba           Mujtaba Qutab      M   \n",
       " 2  2402.0               Zeenat Ayyaz       Ayyaz Abdul Suleh      F   \n",
       " 3  2403.0  Wajid Abdul Hameed Namani          Shaheen Namani      M   \n",
       " 4  2404.0              Annan Kiyyani  Soneel Mehmood Kiyyani      M   \n",
       " \n",
       "                                             Address Date of Birth   Reg Date  \\\n",
       " 0              H No.993 s no.74  kurang nala Multan     24-Nov-81  18-Aug-00   \n",
       " 1       Ho. no. 540 St. no. 69 Chan chirag LalaMusa     25-Aug-81  21-Aug-00   \n",
       " 2               h no. 855 St. no. 32 Kotlia Sialkot     27-Aug-81  24-Aug-00   \n",
       " 3       Ho. No. 169 S No. 28 Saidpur road Bhawalpur     27-May-81  27-Aug-00   \n",
       " 4  H#  484 Street No. 23 Jaamia Masjid road Kharian     29-Jan-80   2-Aug-00   \n",
       " \n",
       "   Reg Status Degree Status Last Degree First Name Last Name Father First Name  \\\n",
       " 0          A             C        HSSC        Gul      Awan          Chodhary   \n",
       " 1          A             C     A level     Fakhar   Mujtaba           Mujtaba   \n",
       " 2          A             C        HSSC     Zeenat     Ayyaz             Ayyaz   \n",
       " 3          A             C     A level      Wajid    Namani           Shaheen   \n",
       " 4          A             C     A-Level      Annan   Kiyyani            Soneel   \n",
       " \n",
       "   Father Last Name  City Name  Campus  Reg# lastDeg Deg Status  \n",
       " 0             Awan     Multan  Lahore   NaN     NaN        NaN  \n",
       " 1            Qutab       None  Lahore   NaN     NaN        NaN  \n",
       " 2            Suleh    Sialkot  Lahore   NaN     NaN        NaN  \n",
       " 3           Namani  Bhawalpur  Lahore   NaN     NaN        NaN  \n",
       " 4          Kiyyani    Kharian  Lahore   NaN     NaN        NaN  ,\n",
       " (8900, 19))"
      ]
     },
     "execution_count": 44,
     "metadata": {},
     "output_type": "execute_result"
    }
   ],
   "source": [
    "# Adding a 'Campus' column to both Lahore and Peshawar datasets\n",
    "lahore_students['Campus'] = 'Lahore'\n",
    "peshawar_students['Campus'] = 'Peshawar'\n",
    "\n",
    "# Concatenating the datasets again with the 'Campus' column\n",
    "combined_students_with_campus = pd.concat([lahore_students, peshawar_students], ignore_index=True)\n",
    "\n",
    "# Verifying the integration by displaying the first few rows and the shape of the combined dataset with 'Campus' column\n",
    "combined_students_with_campus_head = combined_students_with_campus.head()\n",
    "combined_students_with_campus_shape = combined_students_with_campus.shape\n",
    "\n",
    "combined_students_with_campus_head, combined_students_with_campus_shape\n"
   ]
  },
  {
   "cell_type": "markdown",
   "metadata": {},
   "source": [
    "#  Average number of people per semester of each campus.\n"
   ]
  },
  {
   "cell_type": "code",
   "execution_count": 53,
   "metadata": {},
   "outputs": [
    {
     "data": {
      "text/plain": [
       "(1333.3333333333333, 3300.0)"
      ]
     },
     "execution_count": 53,
     "metadata": {},
     "output_type": "execute_result"
    }
   ],
   "source": [
    "\n",
    "# For Lahore campus\n",
    "avg_students_per_semester_lahore = lahore_details.groupby('Semester')['SID'].nunique().mean()\n",
    "\n",
    "# For Peshawar campus\n",
    "avg_students_per_semester_peshawar = peshawar_details.groupby('Semester')['SID'].nunique().mean()\n",
    "\n",
    "avg_students_per_semester_lahore, avg_students_per_semester_peshawar\n"
   ]
  },
  {
   "cell_type": "markdown",
   "metadata": {},
   "source": [
    "#  Average number of students in every batch of each campus."
   ]
  },
  {
   "cell_type": "code",
   "execution_count": 49,
   "metadata": {},
   "outputs": [
    {
     "data": {
      "text/plain": [
       "(472.72727272727275, 336.3636363636364)"
      ]
     },
     "execution_count": 49,
     "metadata": {},
     "output_type": "execute_result"
    }
   ],
   "source": [
    "\n",
    "\n",
    "# Extracting the registration year for both campuses\n",
    "lahore_students['Reg Year'] = pd.to_datetime(lahore_students['Reg Date']).dt.year\n",
    "peshawar_students['Reg Year'] = pd.to_datetime(peshawar_students['Reg Date']).dt.year\n",
    "\n",
    "# Calculating average students per batch (year) for both campuses\n",
    "avg_students_per_batch_lahore = lahore_students.groupby('Reg Year')['SID'].nunique().mean()\n",
    "avg_students_per_batch_peshawar = peshawar_students.groupby('Reg Year')['Reg#'].nunique().mean()\n",
    "\n",
    "avg_students_per_batch_lahore, avg_students_per_batch_peshawar\n"
   ]
  },
  {
   "cell_type": "code",
   "execution_count": null,
   "metadata": {},
   "outputs": [],
   "source": []
  }
 ],
 "metadata": {
  "kernelspec": {
   "display_name": "Python 3",
   "language": "python",
   "name": "python3"
  },
  "language_info": {
   "codemirror_mode": {
    "name": "ipython",
    "version": 3
   },
   "file_extension": ".py",
   "mimetype": "text/x-python",
   "name": "python",
   "nbconvert_exporter": "python",
   "pygments_lexer": "ipython3",
   "version": "3.10.12"
  }
 },
 "nbformat": 4,
 "nbformat_minor": 2
}
